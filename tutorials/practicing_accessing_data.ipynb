{
 "cells": [
  {
   "cell_type": "code",
   "execution_count": 1,
   "id": "ac29bd75",
   "metadata": {},
   "outputs": [],
   "source": [
    "from tutorials.utils.tutorial_utils import setup_notebook\n",
    "setup_notebook()\n",
    "import os\n",
    "NUPLAN_DATA_ROOT = os.getenv('NUPLAN_DATA_ROOT', '../../nuplan/dataset')\n",
    "NUPLAN_MAPS_ROOT = os.getenv('NUPLAN_MAPS_ROOT', '../../nuplan/dataset/maps')\n",
    "NUPLAN_DB_FILES = os.getenv('NUPLAN_DB_FILES', '../../nuplan/dataset/nuplan-v1.1/splits/mini')\n",
    "NUPLAN_MAP_VERSION = os.getenv('NUPLAN_MAP_VERSION', 'nuplan-maps-v1.0')"
   ]
  },
  {
   "cell_type": "markdown",
   "id": "ca0063df",
   "metadata": {},
   "source": [
    "For one LQR scene, get the following information:\n",
    "- current_ego_pose_gb\n",
    "- current_ego_pose\n",
    "- future_ego_pose\n",
    "- current_neighbour_pos\n",
    "- future_neighbour_pos\n",
    "- current_lane"
   ]
  },
  {
   "cell_type": "code",
   "execution_count": 2,
   "id": "b2f3c860",
   "metadata": {},
   "outputs": [],
   "source": [
    "from nuplan.planning.script.builders.scenario_building_builder import build_scenario_builder\n",
    "from nuplan.planning.script.builders.scenario_filter_builder import build_scenario_filter\n",
    "from nuplan.planning.script.builders.worker_pool_builder import build_worker\n",
    "\n",
    "### set up config file - edit in the config access to change ###\n",
    "import hydra\n",
    "CONFIG_PATH = \"../nuplan/planning/script/config/common/myconfigs\"\n",
    "CONFIG_NAME = \"scenario_access\"\n",
    "hydra.core.global_hydra.GlobalHydra.instance().clear()\n",
    "hydra.initialize(config_path=CONFIG_PATH)\n",
    "cfg = hydra.compose(config_name=CONFIG_NAME, overrides=[])\n",
    "###\n",
    "\n",
    "### create all scenario objects as specified in config file ###\n",
    "scenario_builder = build_scenario_builder(cfg)\n",
    "scenario_filter = build_scenario_filter(cfg.scenario_filter)\n",
    "worker = build_worker(cfg)\n",
    "scenarios = scenario_builder.get_scenarios(scenario_filter, worker) # List[AbstractScenario]"
   ]
  },
  {
   "cell_type": "code",
   "execution_count": 20,
   "id": "c200ce75",
   "metadata": {},
   "outputs": [],
   "source": [
    "from math import sqrt\n",
    "from nuplan.common.actor_state.tracked_objects_types import TrackedObjectType\n",
    "from nuplan.common.actor_state.state_representation import TimeDuration\n",
    "import numpy as np\n",
    "\n",
    "class LQRData():\n",
    "    \n",
    "    def __init__(self, scenario, closest=5):\n",
    "        self.s = scenario\n",
    "        \n",
    "        self.data = {} # to be used for LQR\n",
    "        \n",
    "        self.duration = self.s.duration_s # TimeDuration Object in seconds\n",
    "        self.num_frames = self.s.get_number_of_iterations()\n",
    "        self.scenario_type = self.s.scenario_type\n",
    "        \n",
    "        self.n = closest\n",
    "        self.closest_neighbors_id = []\n",
    "    \n",
    "    def populate_data(self):\n",
    "        self.data['current_ego_pos_gb'] = self.get_current_ego_pos_gb()\n",
    "        self.data['current_ego_pos'] = self.get_current_ego_pos()\n",
    "        self.data['future_ego_pos'] = self.get_future_ego_pos()\n",
    "        self.data['current_neighbor_pos'] = self.get_current_neighbor_pos()\n",
    "        self.data['future_neighbor_pos'] = self.get_future_neighbor_pos_id_consistent()\n",
    "        self.data['current_lane'] = self.get_current_lane()\n",
    "    \n",
    "    def get_current_ego_pos_gb(self):\n",
    "        return self.get_xy_from_egostate(self.s.initial_ego_state)\n",
    "    \n",
    "    def get_current_ego_pos(self):\n",
    "        return (0, 0)\n",
    "    \n",
    "    def get_future_ego_pos(self):\n",
    "        future_ego_pos = []\n",
    "        for ego in self.s.get_ego_future_trajectory(0, self.duration.time_s):\n",
    "            future_ego_pos.append(self.get_xy_from_egostate(ego))\n",
    "        return np.asarray(future_ego_pos)\n",
    "        \n",
    "    def get_current_neighbor_pos(self):\n",
    "        \n",
    "        neighbors = self.s.initial_tracked_objects.tracked_objects.get_tracked_objects_of_type(TrackedObjectType.VEHICLE)\n",
    "        \n",
    "        neighbors = sorted(neighbors, key=lambda ag:self.dist(self.data['current_ego_pos_gb'], \n",
    "                                                               self.get_xy_from_agent(ag)))\n",
    "        assert(self.n <= len(neighbors))\n",
    "        near_neighbors = neighbors[:self.n]\n",
    "        self.closest_neighbors_id = [x.track_token for x in near_neighbors]\n",
    "        return np.asarray([self.get_xy_from_agent(ag) for ag in near_neighbors])\n",
    "    \n",
    "#     def get_future_neighbor_pos_nearest_n(self):\n",
    "        \n",
    "#         frames = []\n",
    "#         for detection_track in self.s.get_future_tracked_objects(0, self.duration.time_s):\n",
    "#             tracked_objs = detection_track.tracked_objects\n",
    "#             tracked_objs = sorted(tracked_objs, key=lambda ag:self.dist(self.data['current_ego_pos_gb'],\n",
    "#                                                                   self.get_xy_from_agent(ag)))\n",
    "#             near_objs = tracked_objs[:self.n]\n",
    "            \n",
    "#         return frames\n",
    "    \n",
    "    def get_future_neighbor_pos_id_consistent(self):\n",
    "        \n",
    "        frames = []\n",
    "        \n",
    "        for detection_track in self.s.get_future_tracked_objects(0, self.duration.time_s):\n",
    "            tracked_objs = detection_track.tracked_objects\n",
    "            \n",
    "            interest_objs = []\n",
    "            for obj in tracked_objs:\n",
    "                if obj.track_token in self.closest_neighbors_id:\n",
    "                    interest_objs.append(self.get_xy_from_agent(obj))\n",
    "            \n",
    "            assert(len(interest_objs) == self.n)\n",
    "            frames.append(interest_objs)\n",
    "            \n",
    "        return np.asarray(frames)\n",
    "    \n",
    "    def get_current_lane(self):\n",
    "        ##### CHANGE THIS TO MAKE SENSE LATER #####\n",
    "        \n",
    "        future_ego_pos = []\n",
    "        for ego in self.s.get_expert_ego_trajectory():\n",
    "            future_ego_pos.append(self.get_xy_from_egostate(ego))\n",
    "        return np.asarray(future_ego_pos)\n",
    "    \n",
    "    def get_xy_from_agent(self, agent):\n",
    "        return (agent.center.x, agent.center.y)\n",
    "    \n",
    "    def get_xy_from_egostate(self, ego):\n",
    "        return ego.waypoint._oriented_box.center.x, ego.waypoint._oriented_box.center.y\n",
    "    \n",
    "    def dist(self, a, b):\n",
    "        return sqrt((a[0] - b[0]) ** 2 + (a[1] - b[1]) ** 2)"
   ]
  },
  {
   "cell_type": "code",
   "execution_count": 21,
   "id": "33728b34",
   "metadata": {},
   "outputs": [],
   "source": [
    "s0_ = scenarios[1]\n",
    "s0 = LQRData(scenarios[1])\n",
    "s0.populate_data()"
   ]
  },
  {
   "cell_type": "code",
   "execution_count": 30,
   "id": "93dc6145",
   "metadata": {},
   "outputs": [
    {
     "data": {
      "text/plain": [
       "150"
      ]
     },
     "execution_count": 30,
     "metadata": {},
     "output_type": "execute_result"
    }
   ],
   "source": [
    "s0.data.keys()\n",
    "# ['current_ego_pos_gb', 'current_ego_pos', 'future_ego_pos', 'current_neighbor_pos',\n",
    "# 'future_neighbor_pos', 'current_lane']\n",
    "s0.data['future_ego_pos'].shape\n",
    "s0.data['future_neighbor_pos'].shape\n",
    "s0.data['current_lane'].shape"
   ]
  },
  {
   "cell_type": "code",
   "execution_count": 5,
   "id": "77e1190b",
   "metadata": {},
   "outputs": [
    {
     "data": {
      "text/plain": [
       "<matplotlib.collections.PathCollection at 0x7f661d9e3160>"
      ]
     },
     "execution_count": 5,
     "metadata": {},
     "output_type": "execute_result"
    },
    {
     "data": {
      "image/png": "[encoded data removed]",
      "text/plain": [
       "<Figure size 640x480 with 1 Axes>"
      ]
     },
     "metadata": {},
     "output_type": "display_data"
    }
   ],
   "source": [
    "from nuplan.common.actor_state.state_representation import Point2D\n",
    "from nuplan.common.maps.abstract_map import SemanticMapLayer\n",
    "from matplotlib import pyplot as plt\n",
    "\n",
    "pose = s0.data['current_ego_pos_gb']\n",
    "point = Point2D(pose[0], pose[1])\n",
    "\n",
    "lane = s0_.map_api.get_one_map_object(point, SemanticMapLayer.LANE)\n",
    "dlane = lane.baseline_path.discrete_path\n",
    "discrete_lane_x, discrete_lane_y = [pt.x for pt in dlane], [pt.y for pt in dlane]\n",
    "\n",
    "plt.scatter(s0.data['future_ego_pos'][:, 0], s0.data['future_ego_pos'][:, 1], color = 'r', s=5)\n",
    "plt.scatter(discrete_lane_x, discrete_lane_y, color='g', s=5)"
   ]
  },
  {
   "cell_type": "markdown",
   "id": "e91d5071",
   "metadata": {},
   "source": [
    "Find longer (multi-edge) discrete lane paths using breadth first search"
   ]
  },
  {
   "cell_type": "code",
   "execution_count": 6,
   "id": "5bf4144e",
   "metadata": {},
   "outputs": [],
   "source": [
    "from nuplan.common.actor_state.ego_state import EgoState\n",
    "from nuplan.common.maps.abstract_map_objects import LaneGraphEdgeMapObject\n",
    "from typing import List, Tuple\n",
    "from nuplan.planning.simulation.planner.utils.breadth_first_search import BreadthFirstSearch\n",
    "import math\n",
    "\n",
    "# get route plan from map\n",
    "route_roadblocks_ids = s0_.get_route_roadblock_ids()\n",
    "\n",
    "route_roadblocks = []\n",
    "for id_ in route_roadblocks_ids:\n",
    "    block = s0_.map_api.get_map_object(id_, SemanticMapLayer.ROADBLOCK)\n",
    "    block = block or s0_.map_api.get_map_object(id_, SemanticMapLayer.ROADBLOCK_CONNECTOR)\n",
    "    route_roadblocks.append(block)\n",
    "\n",
    "# candidate lane IDs\n",
    "candidate_lane_edge_ids = [edge.id for block in route_roadblocks if block for edge in block.interior_edges]\n",
    "\n",
    "def get_starting_edge(ego_state: EgoState) -> LaneGraphEdgeMapObject:\n",
    "    \n",
    "    starting_edge = None\n",
    "    closest_dist = math.inf\n",
    "    found_on_roadblock = False\n",
    "    for edge in route_roadblocks[0].interior_edges + route_roadblocks[1].interior_edges:\n",
    "        if edge.contains_point(ego_state.center):\n",
    "            starting_edge = edge\n",
    "            found_on_roadblock = True\n",
    "            break\n",
    "        # case ego does not start on a road block\n",
    "        distance = edge.polygon.distance(ego_state.car_footprint.geometry)\n",
    "        if distance < closest_dist:\n",
    "            starting_edge = edge\n",
    "            closest_dist = distance\n",
    "    \n",
    "    if not found_on_roadblock:\n",
    "        print('Picking closest approx')\n",
    "    return starting_edge\n",
    "\n",
    "def bfs(ego_state: EgoState) -> Tuple[List[LaneGraphEdgeMapObject], bool]:\n",
    "    starting_edge = get_starting_edge(ego_state)\n",
    "    graph_search = BreadthFirstSearch(starting_edge, candidate_lane_edge_ids)\n",
    "    offset = 1 if starting_edge.get_roadblock_id() == route_roadblocks[1].id else 0\n",
    "    route_plan, path_found = graph_search.search(route_roadblocks[-1], len(route_roadblocks[offset:]))\n",
    "    if not path_found:\n",
    "        logger.warning('Path not found')\n",
    "    return route_plan, path_found\n",
    "\n",
    "current_lane_path, found = bfs(s0_.initial_ego_state)\n",
    "assert(found == True)"
   ]
  },
  {
   "cell_type": "code",
   "execution_count": 7,
   "id": "0ab98b7b",
   "metadata": {},
   "outputs": [],
   "source": [
    "route = []\n",
    "for lane in current_lane_path:\n",
    "    route += lane.baseline_path.discrete_path"
   ]
  },
  {
   "cell_type": "code",
   "execution_count": 8,
   "id": "95e05313",
   "metadata": {},
   "outputs": [
    {
     "data": {
      "text/plain": [
       "<matplotlib.collections.PathCollection at 0x7f661dadbc70>"
      ]
     },
     "execution_count": 8,
     "metadata": {},
     "output_type": "execute_result"
    },
    {
     "data": {
      "image/png": "[encoded data removed]",
      "text/plain": [
       "<Figure size 640x480 with 1 Axes>"
      ]
     },
     "metadata": {},
     "output_type": "display_data"
    }
   ],
   "source": [
    "discrete_lane_x, discrete_lane_y = [pt.x for pt in route], [pt.y for pt in route]\n",
    "\n",
    "plt.scatter(s0.data['future_ego_pos'][:, 0], s0.data['future_ego_pos'][:, 1], color = 'r', s=5)\n",
    "plt.scatter(discrete_lane_x, discrete_lane_y, color='g', s=5)"
   ]
  },
  {
   "cell_type": "markdown",
   "id": "509cff54",
   "metadata": {},
   "source": [
    "both the initial and final state are different between the path finding and the goal_state"
   ]
  },
  {
   "cell_type": "code",
   "execution_count": 9,
   "id": "6839823b",
   "metadata": {},
   "outputs": [
    {
     "data": {
      "text/plain": [
       "StateSE2(x=664461.0721685191, y=3997777.899627016, heading=1.5878035491762825)"
      ]
     },
     "execution_count": 9,
     "metadata": {},
     "output_type": "execute_result"
    }
   ],
   "source": [
    "s0_.initial_ego_state.center"
   ]
  },
  {
   "cell_type": "code",
   "execution_count": 10,
   "id": "7552a998",
   "metadata": {},
   "outputs": [
    {
     "data": {
      "text/plain": [
       "(664463.1335571983, 3997688.5273141917)"
      ]
     },
     "execution_count": 10,
     "metadata": {},
     "output_type": "execute_result"
    }
   ],
   "source": [
    "discrete_lane_x[0], discrete_lane_y[0]"
   ]
  },
  {
   "cell_type": "code",
   "execution_count": 11,
   "id": "dd05c14b",
   "metadata": {},
   "outputs": [
    {
     "data": {
      "text/plain": [
       "(664458.927031184, 3997893.764858045)"
      ]
     },
     "execution_count": 11,
     "metadata": {},
     "output_type": "execute_result"
    }
   ],
   "source": [
    "s0.data['future_ego_pos'][-1, 0], s0.data['future_ego_pos'][-1, 1]"
   ]
  },
  {
   "cell_type": "code",
   "execution_count": 12,
   "id": "b169798f",
   "metadata": {},
   "outputs": [
    {
     "data": {
      "text/plain": [
       "(664450.9222868871, 3998635.2032145886)"
      ]
     },
     "execution_count": 12,
     "metadata": {},
     "output_type": "execute_result"
    }
   ],
   "source": [
    "discrete_lane_x[-1], discrete_lane_y[-1]"
   ]
  },
  {
   "cell_type": "code",
   "execution_count": 13,
   "id": "0f1d494b",
   "metadata": {},
   "outputs": [],
   "source": [
    "##### Conclude that get_expert_ego_trajectory and get_ego_future_trajectory are almost the same thing #####\n",
    "\n",
    "# def get_xy_from_statelist(states):\n",
    "#     coords = np.asarray([(pt.x, pt.y) for pt in states])\n",
    "#     return (coords[:, 0], coords[:, 1])\n",
    "\n",
    "# def get_xy_from_egostatelist(ego_states):\n",
    "#     coords = np.asarray([(pt.center.x, pt.center.y) for pt in ego_states])\n",
    "#     return (coords[:, 0], coords[:, 1])\n",
    "\n",
    "# x_expert, y_expert = get_xy_from_egostatelist(s0_.get_expert_ego_trajectory())\n",
    "# x_future, y_future = get_xy_from_egostatelist(s0_.get_ego_future_trajectory(0, s0.duration.time_s))\n",
    "\n",
    "# plt.scatter(x_expert, y_expert, color = 'r', s=5)\n",
    "# plt.scatter(x_future, y_future, color='g', s=5)"
   ]
  },
  {
   "cell_type": "code",
   "execution_count": null,
   "id": "df2e1aeb",
   "metadata": {},
   "outputs": [],
   "source": []
  }
 ],
 "metadata": {
  "kernelspec": {
   "display_name": "Python 3 (ipykernel)",
   "language": "python",
   "name": "python3"
  },
  "language_info": {
   "codemirror_mode": {
    "name": "ipython",
    "version": 3
   },
   "file_extension": ".py",
   "mimetype": "text/x-python",
   "name": "python",
   "nbconvert_exporter": "python",
   "pygments_lexer": "ipython3",
   "version": "3.9.16"
  }
 },
 "nbformat": 4,
 "nbformat_minor": 5
}

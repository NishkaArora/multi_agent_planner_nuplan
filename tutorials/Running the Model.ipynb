{
 "cells": [
  {
   "cell_type": "code",
   "execution_count": 1,
   "id": "859c3a80",
   "metadata": {},
   "outputs": [
    {
     "data": {
      "text/plain": [
       "'/home/nishka/training_logs/exp/training/gpu0workerstrain_simple_vector_map_model/2023.07.14.19.48.58/checkpoints/epoch=9.ckpt'"
      ]
     },
     "execution_count": 1,
     "metadata": {},
     "output_type": "execute_result"
    }
   ],
   "source": [
    "from pathlib import Path\n",
    "import os\n",
    "import hydra\n",
    "import torch\n",
    "\n",
    "# Create a temporary directory to store the cache and experiment artifacts\n",
    "# SAVE_DIR = Path(tempfile.gettempdir()) / 'tutorial_nuplan_framework'  # optionally replace with persistent dir\n",
    "SAVE_DIR = Path('/home/nishka')\n",
    "EXPERIMENT = 'training_logs/exp/training'\n",
    "JOB_NAME = 'gpu0workerstrain_simple_vector_map_model'\n",
    "LOG_DIR = SAVE_DIR / EXPERIMENT / JOB_NAME\n",
    "\n",
    "# Get the checkpoint of the trained model\n",
    "last_experiment = sorted(os.listdir(LOG_DIR))[-1]\n",
    "train_experiment_dir = sorted(LOG_DIR.iterdir())[-1]\n",
    "checkpoint = sorted((train_experiment_dir / 'checkpoints').iterdir())[-1]\n",
    "MODEL_PATH = str(checkpoint)\n",
    "MODEL_PATH_cfg = str(checkpoint).replace(\"=\", \"\\=\")\n",
    "MODEL_PATH"
   ]
  },
  {
   "cell_type": "code",
   "execution_count": 2,
   "id": "0cae7e62",
   "metadata": {},
   "outputs": [],
   "source": [
    "# Name of the experiment\n",
    "EXPERIMENT = 'Simple_VMM_Experiment'\n",
    "\n",
    "### Not used ###\n",
    "CHALLENGE = 'open_loop_boxes'  # [open_loop_boxes, closed_loop_nonreactive_agents, closed_loop_reactive_agents]\n",
    "DATASET_PARAMS = [\n",
    "    'scenario_builder=nuplan_mini',  # use nuplan mini database\n",
    "    'scenario_filter=all_scenarios',  # initially select all scenarios in the database\n",
    "    'scenario_filter.scenario_types=[near_multiple_vehicles, on_pickup_dropoff, starting_unprotected_cross_turn, high_magnitude_jerk]',  # select scenario types\n",
    "    'scenario_filter.num_scenarios_per_type=10',  # use 10 scenarios per scenario type\n",
    "]\n",
    "# Location of path with all simulation configs\n",
    "CONFIG_PATH = '../nuplan/planning/script/config/simulation'\n",
    "CONFIG_NAME = 'default_simulation'\n",
    "##################\n",
    "\n",
    "# Initialize configuration management system\n",
    "hydra.core.global_hydra.GlobalHydra.instance().clear()  # reinitialize hydra if already initialized\n",
    "hydra.initialize(config_path=CONFIG_PATH)\n",
    "\n",
    "# Compose the configuration\n",
    "cfg = hydra.compose(config_name=CONFIG_NAME, overrides=[\n",
    "    f'experiment_name={EXPERIMENT}',\n",
    "    f'group={SAVE_DIR}',\n",
    "    'planner=ml_planner',\n",
    "    'model=simple_vector_model',\n",
    "    'planner.ml_planner.model_config=${model}',  # hydra notation to select model config\n",
    "    f'planner.ml_planner.checkpoint_path={MODEL_PATH_cfg}',  # this path can be replaced by the checkpoint of the model trained in the previous section\n",
    "    f'+simulation={CHALLENGE}',\n",
    "    *DATASET_PARAMS,\n",
    "])\n",
    "planner_cfg = cfg.planner.ml_planner"
   ]
  },
  {
   "cell_type": "code",
   "execution_count": 3,
   "id": "5ca07dc7",
   "metadata": {},
   "outputs": [],
   "source": [
    "from nuplan.planning.script.builders.model_builder import build_torch_module_wrapper\n",
    "from nuplan.planning.training.modeling.lightning_module_wrapper import LightningModuleWrapper\n",
    "\n",
    "torch_module_wrapper = build_torch_module_wrapper(planner_cfg.model_config)\n",
    "model = LightningModuleWrapper.load_from_checkpoint(MODEL_PATH, model=torch_module_wrapper).model"
   ]
  },
  {
   "cell_type": "code",
   "execution_count": 4,
   "id": "fc1bcb55",
   "metadata": {},
   "outputs": [
    {
     "data": {
      "text/plain": [
       "VectorMapSimpleMLP(\n",
       "  (vectormap_mlp): Sequential(\n",
       "    (0): Linear(in_features=4, out_features=128, bias=True)\n",
       "    (1): ReLU()\n",
       "    (2): Linear(in_features=128, out_features=128, bias=True)\n",
       "  )\n",
       "  (ego_mlp): Sequential(\n",
       "    (0): Linear(in_features=15, out_features=128, bias=True)\n",
       "    (1): ReLU()\n",
       "    (2): Linear(in_features=128, out_features=128, bias=True)\n",
       "  )\n",
       "  (agent_mlp): Sequential(\n",
       "    (0): Linear(in_features=40, out_features=128, bias=True)\n",
       "    (1): ReLU()\n",
       "    (2): Linear(in_features=128, out_features=128, bias=True)\n",
       "  )\n",
       "  (_mlp): Sequential(\n",
       "    (0): Linear(in_features=384, out_features=128, bias=True)\n",
       "    (1): ReLU()\n",
       "    (2): Linear(in_features=128, out_features=48, bias=True)\n",
       "  )\n",
       ")"
      ]
     },
     "execution_count": 4,
     "metadata": {},
     "output_type": "execute_result"
    }
   ],
   "source": [
    "model"
   ]
  },
  {
   "cell_type": "code",
   "execution_count": 5,
   "id": "b29988a4",
   "metadata": {},
   "outputs": [],
   "source": [
    "import pickle\n",
    "from typing import cast\n",
    "from nuplan.planning.training.preprocessing.features.agents import Agents\n",
    "from nuplan.planning.training.preprocessing.features.trajectory import Trajectory\n",
    "from nuplan.planning.training.preprocessing.features.vector_map import VectorMap\n",
    "import numpy as np\n",
    "\n",
    "with open('examples/agents', 'rb') as pick:\n",
    "    agents = pickle.load(pick)\n",
    "    agents_obj = Agents(ego=torch.Tensor(agents['ego']), agents=torch.Tensor(agents['agents']))\n",
    "\n",
    "with open('examples/vector_map', 'rb') as pick:\n",
    "    vmap = pickle.load(pick)\n",
    "    vmap_obj = VectorMap(coords=torch.Tensor(vmap['coords']), \n",
    "                         lane_groupings=vmap['lane_groupings'],\n",
    "                        multi_scale_connections=vmap['multi_scale_connections'],\n",
    "                        on_route_status=vmap['on_route_status'],\n",
    "                        traffic_light_data=vmap['traffic_light_data'])\n",
    "\n",
    "# with open('examples/trajectory', 'rb') as pick:\n",
    "#     traj = pickle.load(pick)"
   ]
  },
  {
   "cell_type": "code",
   "execution_count": 6,
   "id": "cb65f8e8",
   "metadata": {},
   "outputs": [
    {
     "name": "stdout",
     "output_type": "stream",
     "text": [
      "LOOK HERE\n",
      "<class 'torch.Tensor'>\n",
      "tensor([[ 4.6566e-10,  0.0000e+00,  2.1458e-06],\n",
      "        [ 4.6566e-10,  0.0000e+00, -6.3777e-05],\n",
      "        [ 4.6566e-10,  0.0000e+00, -5.1141e-05],\n",
      "        [ 4.6566e-10,  0.0000e+00, -3.8862e-05],\n",
      "        [ 4.6566e-10,  0.0000e+00, -2.7756e-17]])\n",
      "<class 'torch.Tensor'>\n",
      "tensor([[ 4.6566e-10,  0.0000e+00,  2.1458e-06,  4.6566e-10,  0.0000e+00,\n",
      "         -6.3777e-05,  4.6566e-10,  0.0000e+00, -5.1141e-05,  4.6566e-10,\n",
      "          0.0000e+00, -3.8862e-05,  4.6566e-10,  0.0000e+00, -2.7756e-17]])\n"
     ]
    },
    {
     "data": {
      "text/plain": [
       "{'trajectory': Trajectory(data=tensor([[[-1.9260e-01, -1.2288e-01,  6.0846e-02],\n",
       "          [-8.9704e-02, -3.8206e-02, -2.5725e-02],\n",
       "          [-1.7734e-01, -1.6475e-01, -3.7576e-02],\n",
       "          [-2.4087e-01, -1.8800e-01, -6.3568e-03],\n",
       "          [-1.9540e-01, -2.4304e-01,  2.8779e-03],\n",
       "          [-3.2237e-01, -2.6313e-01,  2.3570e-02],\n",
       "          [-3.0205e-01, -2.7913e-01, -1.7839e-02],\n",
       "          [-1.9841e-01, -2.5822e-01,  6.7995e-03],\n",
       "          [-4.2149e-01, -3.2694e-01, -4.8268e-02],\n",
       "          [-1.7830e-01, -2.6053e-01, -4.0298e-02],\n",
       "          [-1.4290e-01, -2.8508e-01, -8.0102e-02],\n",
       "          [ 2.1691e-01, -2.2834e-01, -2.1272e-02],\n",
       "          [ 3.9029e-01, -3.6305e-01, -1.7443e-03],\n",
       "          [ 8.1347e-01, -4.4432e-01, -2.6769e-02],\n",
       "          [ 1.3167e+00, -3.8198e-01, -3.9249e-02],\n",
       "          [ 1.8378e+00, -3.9430e-01,  1.2404e-02]]], grad_fn=<ViewBackward>))}"
      ]
     },
     "execution_count": 6,
     "metadata": {},
     "output_type": "execute_result"
    }
   ],
   "source": [
    "model.eval()\n",
    "\n",
    "features = {'vector_map': vmap_obj, 'agents': agents_obj}\n",
    "\n",
    "model.forward(features)"
   ]
  },
  {
   "cell_type": "code",
   "execution_count": null,
   "id": "410c3ca0",
   "metadata": {},
   "outputs": [],
   "source": []
  }
 ],
 "metadata": {
  "kernelspec": {
   "display_name": "Python 3 (ipykernel)",
   "language": "python",
   "name": "python3"
  },
  "language_info": {
   "codemirror_mode": {
    "name": "ipython",
    "version": 3
   },
   "file_extension": ".py",
   "mimetype": "text/x-python",
   "name": "python",
   "nbconvert_exporter": "python",
   "pygments_lexer": "ipython3",
   "version": "3.9.16"
  }
 },
 "nbformat": 4,
 "nbformat_minor": 5
}

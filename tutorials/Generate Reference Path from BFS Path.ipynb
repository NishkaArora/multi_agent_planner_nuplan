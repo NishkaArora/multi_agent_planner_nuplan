{
 "cells": [
  {
   "cell_type": "markdown",
   "id": "21d79783",
   "metadata": {},
   "source": [
    "## Get Scenario Data"
   ]
  },
  {
   "cell_type": "code",
   "execution_count": 1,
   "id": "2a82c457",
   "metadata": {},
   "outputs": [],
   "source": [
    "from tutorials.utils.tutorial_utils import setup_notebook\n",
    "setup_notebook()\n",
    "import os\n",
    "NUPLAN_DATA_ROOT = os.getenv('NUPLAN_DATA_ROOT', '../../nuplan/dataset')\n",
    "NUPLAN_MAPS_ROOT = os.getenv('NUPLAN_MAPS_ROOT', '../../nuplan/dataset/maps')\n",
    "NUPLAN_DB_FILES = os.getenv('NUPLAN_DB_FILES', '../../nuplan/dataset/nuplan-v1.1/splits/mini')\n",
    "NUPLAN_MAP_VERSION = os.getenv('NUPLAN_MAP_VERSION', 'nuplan-maps-v1.0')"
   ]
  },
  {
   "cell_type": "code",
   "execution_count": 2,
   "id": "f2b760aa",
   "metadata": {},
   "outputs": [],
   "source": [
    "from nuplan.planning.script.builders.scenario_building_builder import build_scenario_builder\n",
    "from nuplan.planning.script.builders.scenario_filter_builder import build_scenario_filter\n",
    "from nuplan.planning.script.builders.worker_pool_builder import build_worker\n",
    "\n",
    "### set up config file - edit in the config access to change ###\n",
    "import hydra\n",
    "CONFIG_PATH = \"../nuplan/planning/script/config/common/myconfigs\"\n",
    "CONFIG_NAME = \"scenario_access\"\n",
    "hydra.core.global_hydra.GlobalHydra.instance().clear()\n",
    "hydra.initialize(config_path=CONFIG_PATH)\n",
    "cfg = hydra.compose(config_name=CONFIG_NAME, overrides=[])\n",
    "###\n",
    "\n",
    "### create all scenario objects as specified in config file ###\n",
    "scenario_builder = build_scenario_builder(cfg)\n",
    "scenario_filter = build_scenario_filter(cfg.scenario_filter)\n",
    "worker = build_worker(cfg)\n",
    "scenarios = scenario_builder.get_scenarios(scenario_filter, worker) # List[AbstractScenario]"
   ]
  },
  {
   "cell_type": "code",
   "execution_count": 3,
   "id": "85e6dbfe",
   "metadata": {},
   "outputs": [],
   "source": [
    "s = scenarios[1]"
   ]
  },
  {
   "cell_type": "markdown",
   "id": "d3a32112",
   "metadata": {},
   "source": [
    "## Get Reference Lane From Map Data"
   ]
  },
  {
   "cell_type": "code",
   "execution_count": 4,
   "id": "5aedac72",
   "metadata": {},
   "outputs": [
    {
     "data": {
      "text/plain": [
       "<nuplan.common.maps.nuplan_map.nuplan_map.NuPlanMap at 0x7f9a58a6ad60>"
      ]
     },
     "execution_count": 4,
     "metadata": {},
     "output_type": "execute_result"
    }
   ],
   "source": [
    "s.map_api"
   ]
  },
  {
   "cell_type": "code",
   "execution_count": 5,
   "id": "7345bb78",
   "metadata": {},
   "outputs": [],
   "source": [
    "from nuplan.common.actor_state.state_representation import Point2D\n",
    "from nuplan.common.maps.abstract_map import SemanticMapLayer\n",
    "from matplotlib import pyplot as plt\n",
    "\n",
    "from nuplan.common.actor_state.ego_state import EgoState\n",
    "from nuplan.common.maps.abstract_map_objects import LaneGraphEdgeMapObject\n",
    "from typing import List, Tuple\n",
    "from nuplan.planning.simulation.planner.utils.breadth_first_search import BreadthFirstSearch\n",
    "import math\n",
    "\n",
    "# get route plan from map\n",
    "route_roadblocks_ids = s.get_route_roadblock_ids()\n",
    "\n",
    "route_roadblocks = []\n",
    "for id_ in route_roadblocks_ids:\n",
    "    block = s.map_api.get_map_object(id_, SemanticMapLayer.ROADBLOCK)\n",
    "    block = block or s.map_api.get_map_object(id_, SemanticMapLayer.ROADBLOCK_CONNECTOR)\n",
    "    route_roadblocks.append(block)\n",
    "\n",
    "# candidate lane IDs\n",
    "candidate_lane_edge_ids = [edge.id for block in route_roadblocks if block for edge in block.interior_edges]\n",
    "\n",
    "def get_starting_edge(ego_state: EgoState) -> LaneGraphEdgeMapObject:\n",
    "    \n",
    "    starting_edge = None\n",
    "    closest_dist = math.inf\n",
    "    found_on_roadblock = False\n",
    "    for edge in route_roadblocks[0].interior_edges + route_roadblocks[1].interior_edges:\n",
    "        if edge.contains_point(ego_state.center):\n",
    "            starting_edge = edge\n",
    "            found_on_roadblock = True\n",
    "            break\n",
    "        # case ego does not start on a road block\n",
    "        distance = edge.polygon.distance(ego_state.car_footprint.geometry)\n",
    "        if distance < closest_dist:\n",
    "            starting_edge = edge\n",
    "            closest_dist = distance\n",
    "    \n",
    "    if not found_on_roadblock:\n",
    "        print('Picking closest approx')\n",
    "    return starting_edge\n",
    "\n",
    "def bfs(ego_state: EgoState) -> Tuple[List[LaneGraphEdgeMapObject], bool]:\n",
    "    starting_edge = get_starting_edge(ego_state)\n",
    "    graph_search = BreadthFirstSearch(starting_edge, candidate_lane_edge_ids)\n",
    "    offset = 1 if starting_edge.get_roadblock_id() == route_roadblocks[1].id else 0\n",
    "    route_plan, path_found = graph_search.search(route_roadblocks[-1], len(route_roadblocks[offset:]))\n",
    "    if not path_found:\n",
    "        logger.warning('Path not found')\n",
    "    return route_plan, path_found\n",
    "\n",
    "current_lane_path, found = bfs(s.initial_ego_state)\n",
    "assert(found == True)"
   ]
  },
  {
   "cell_type": "code",
   "execution_count": 6,
   "id": "8f262fca",
   "metadata": {},
   "outputs": [
    {
     "data": {
      "text/plain": [
       "19"
      ]
     },
     "execution_count": 6,
     "metadata": {},
     "output_type": "execute_result"
    }
   ],
   "source": [
    "len(current_lane_path)"
   ]
  },
  {
   "cell_type": "code",
   "execution_count": 7,
   "id": "bf5ef3e7",
   "metadata": {},
   "outputs": [
    {
     "data": {
      "text/plain": [
       "<matplotlib.collections.PathCollection at 0x7f9a58b60280>"
      ]
     },
     "execution_count": 7,
     "metadata": {},
     "output_type": "execute_result"
    },
    {
     "data": {
      "image/png": "[encoded data removed]",
      "text/plain": [
       "<Figure size 640x480 with 1 Axes>"
      ]
     },
     "metadata": {},
     "output_type": "display_data"
    }
   ],
   "source": [
    "import matplotlib.cm as cm\n",
    "from matplotlib.colors import Normalize\n",
    "import numpy as np \n",
    " \n",
    "cmap = cm.autumn\n",
    "norm = Normalize(vmin=0, vmax=len(current_lane_path))\n",
    "\n",
    "col = 0\n",
    "for lane in current_lane_path:\n",
    "    route = lane.baseline_path.discrete_path\n",
    "    discrete_lane_x, discrete_lane_y = [pt.x for pt in route], [pt.y for pt in route]\n",
    "    plt.scatter(discrete_lane_x, discrete_lane_y, color=cmap(norm(col)), s=5, label='bfs ego path')\n",
    "    col += 1\n",
    "\n",
    "def get_xy_from_egostate(ego):\n",
    "        return ego.waypoint._oriented_box.center.x, ego.waypoint._oriented_box.center.y\n",
    "\n",
    "future_ego_pos = []\n",
    "for ego in s.get_ego_future_trajectory(0, s.duration_s.time_s):\n",
    "    future_ego_pos.append(get_xy_from_egostate(ego))\n",
    "future_ego_pos = np.array(future_ego_pos)\n",
    "\n",
    "plt.scatter(future_ego_pos[:, 0], future_ego_pos[:, 1], color = 'pink', s=5, label='true ego path')"
   ]
  },
  {
   "cell_type": "code",
   "execution_count": 8,
   "id": "5051c155",
   "metadata": {},
   "outputs": [
    {
     "data": {
      "text/plain": [
       "(664461.0721685191, 3997777.899627016)"
      ]
     },
     "execution_count": 8,
     "metadata": {},
     "output_type": "execute_result"
    }
   ],
   "source": [
    "get_xy_from_egostate(s.initial_ego_state)"
   ]
  },
  {
   "cell_type": "markdown",
   "id": "0a500855",
   "metadata": {},
   "source": [
    "## Get shortened path"
   ]
  },
  {
   "cell_type": "code",
   "execution_count": 9,
   "id": "7e07c470",
   "metadata": {},
   "outputs": [],
   "source": [
    "full_bfs = [] \n",
    "\n",
    "for lane in current_lane_path:\n",
    "    full_bfs += lane.baseline_path.discrete_path"
   ]
  },
  {
   "cell_type": "code",
   "execution_count": 10,
   "id": "f3241229",
   "metadata": {},
   "outputs": [],
   "source": [
    "init = s.initial_ego_state.center\n",
    "fin = s.get_expert_goal_state()\n",
    "\n",
    "init_dist = float('inf')\n",
    "fin_dist = float('inf')\n",
    "\n",
    "init_id = 0\n",
    "fin_id = 0\n",
    "\n",
    "for idx in range(len(full_bfs)):\n",
    "    if init_dist > full_bfs[idx].distance_to(init):\n",
    "        init_dist = full_bfs[idx].distance_to(init)\n",
    "        init_id = idx\n",
    "    if fin_dist > full_bfs[idx].distance_to(fin):\n",
    "        fin_dist = full_bfs[idx].distance_to(fin)\n",
    "        fin_id = idx"
   ]
  },
  {
   "cell_type": "code",
   "execution_count": 11,
   "id": "8f319030",
   "metadata": {},
   "outputs": [],
   "source": [
    "ref_path = full_bfs[init_id:fin_id+1]\n",
    "ref_path_x, ref_path_y = [pt.x for pt in ref_path], [pt.y for pt in ref_path]"
   ]
  },
  {
   "cell_type": "code",
   "execution_count": 12,
   "id": "37bbd4aa",
   "metadata": {},
   "outputs": [
    {
     "data": {
      "text/plain": [
       "Text(0.5, 1.0, 'True vs Reference path using BFS')"
      ]
     },
     "execution_count": 12,
     "metadata": {},
     "output_type": "execute_result"
    },
    {
     "data": {
      "image/png": "[encoded data removed]",
      "text/plain": [
       "<Figure size 640x480 with 1 Axes>"
      ]
     },
     "metadata": {},
     "output_type": "display_data"
    }
   ],
   "source": [
    "plt.scatter(future_ego_pos[:, 0], future_ego_pos[:, 1], color = 'pink', s=5, label='true ego path')\n",
    "plt.scatter(ref_path_x, ref_path_y, color = 'black', s=5, label='reference path')\n",
    "\n",
    "plt.scatter(future_ego_pos[0, 0], future_ego_pos[0, 1], color = 'orange', s=5, label='initial')\n",
    "plt.scatter(ref_path_x[0], ref_path_y[0], color = 'orange', s=5)\n",
    "\n",
    "plt.scatter(future_ego_pos[-1, 0], future_ego_pos[-1, 1], color = 'g', s=5, label='final')\n",
    "plt.scatter(ref_path_x[-1], ref_path_y[-1], color = 'g', s=5)\n",
    "\n",
    "plt.legend()\n",
    "plt.title('True vs Reference path using BFS')"
   ]
  },
  {
   "cell_type": "code",
   "execution_count": 13,
   "id": "75357b35",
   "metadata": {},
   "outputs": [
    {
     "data": {
      "text/plain": [
       "467"
      ]
     },
     "execution_count": 13,
     "metadata": {},
     "output_type": "execute_result"
    }
   ],
   "source": [
    "len(ref_path)"
   ]
  },
  {
   "cell_type": "code",
   "execution_count": 14,
   "id": "0b6c0936",
   "metadata": {},
   "outputs": [
    {
     "data": {
      "text/plain": [
       "148"
      ]
     },
     "execution_count": 14,
     "metadata": {},
     "output_type": "execute_result"
    }
   ],
   "source": [
    "len(future_ego_pos)"
   ]
  },
  {
   "cell_type": "code",
   "execution_count": null,
   "id": "6279f2fa",
   "metadata": {},
   "outputs": [],
   "source": []
  }
 ],
 "metadata": {
  "kernelspec": {
   "display_name": "Python 3 (ipykernel)",
   "language": "python",
   "name": "python3"
  },
  "language_info": {
   "codemirror_mode": {
    "name": "ipython",
    "version": 3
   },
   "file_extension": ".py",
   "mimetype": "text/x-python",
   "name": "python",
   "nbconvert_exporter": "python",
   "pygments_lexer": "ipython3",
   "version": "3.9.16"
  }
 },
 "nbformat": 4,
 "nbformat_minor": 5
}

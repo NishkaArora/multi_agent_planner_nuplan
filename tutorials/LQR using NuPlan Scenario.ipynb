{
 "cells": [
  {
   "cell_type": "markdown",
   "id": "cb22c7e3",
   "metadata": {},
   "source": [
    "## Get Scenario Data"
   ]
  },
  {
   "cell_type": "code",
   "execution_count": 3,
   "id": "b0ed397f",
   "metadata": {},
   "outputs": [],
   "source": [
    "from tutorials.utils.tutorial_utils import setup_notebook\n",
    "setup_notebook()\n",
    "import os\n",
    "NUPLAN_DATA_ROOT = os.getenv('NUPLAN_DATA_ROOT', '../../nuplan/dataset')\n",
    "NUPLAN_MAPS_ROOT = os.getenv('NUPLAN_MAPS_ROOT', '../../nuplan/dataset/maps')\n",
    "NUPLAN_DB_FILES = os.getenv('NUPLAN_DB_FILES', '../../nuplan/dataset/nuplan-v1.1/splits/mini')\n",
    "NUPLAN_MAP_VERSION = os.getenv('NUPLAN_MAP_VERSION', 'nuplan-maps-v1.0')"
   ]
  },
  {
   "cell_type": "code",
   "execution_count": 4,
   "id": "056bc14d",
   "metadata": {},
   "outputs": [],
   "source": [
    "from nuplan.planning.script.builders.scenario_building_builder import build_scenario_builder\n",
    "from nuplan.planning.script.builders.scenario_filter_builder import build_scenario_filter\n",
    "from nuplan.planning.script.builders.worker_pool_builder import build_worker\n",
    "\n",
    "### set up config file - edit in the config access to change ###\n",
    "import hydra\n",
    "CONFIG_PATH = \"../nuplan/planning/script/config/common/myconfigs\"\n",
    "CONFIG_NAME = \"scenario_access\"\n",
    "hydra.core.global_hydra.GlobalHydra.instance().clear()\n",
    "hydra.initialize(config_path=CONFIG_PATH)\n",
    "cfg = hydra.compose(config_name=CONFIG_NAME, overrides=[])\n",
    "###\n",
    "\n",
    "### create all scenario objects as specified in config file ###\n",
    "scenario_builder = build_scenario_builder(cfg)\n",
    "scenario_filter = build_scenario_filter(cfg.scenario_filter)\n",
    "worker = build_worker(cfg)\n",
    "scenarios = scenario_builder.get_scenarios(scenario_filter, worker) # List[AbstractScenario]"
   ]
  },
  {
   "cell_type": "markdown",
   "id": "18e5d9cb",
   "metadata": {},
   "source": [
    "## LQR Class"
   ]
  },
  {
   "cell_type": "code",
   "execution_count": 16,
   "id": "23f9ce27",
   "metadata": {},
   "outputs": [],
   "source": [
    "from math import sqrt\n",
    "from nuplan.common.actor_state.tracked_objects_types import TrackedObjectType\n",
    "from nuplan.common.actor_state.state_representation import TimeDuration\n",
    "import numpy as np\n",
    "\n",
    "\n",
    "# imports for BFS\n",
    "from nuplan.common.actor_state.state_representation import Point2D\n",
    "from nuplan.common.maps.abstract_map import SemanticMapLayer\n",
    "from matplotlib import pyplot as plt\n",
    "\n",
    "from nuplan.common.actor_state.ego_state import EgoState\n",
    "from nuplan.common.maps.abstract_map_objects import LaneGraphEdgeMapObject\n",
    "from typing import List, Tuple\n",
    "from nuplan.planning.simulation.planner.utils.breadth_first_search import BreadthFirstSearch\n",
    "import math\n",
    "import torch\n",
    "\n",
    "from shapely import LineString\n",
    "import shapely\n",
    "\n",
    "class LQRData():\n",
    "    \n",
    "    def __init__(self, scenario, closest=5, start_iter=0, horizon=20):\n",
    "        self.s = scenario\n",
    "        \n",
    "        self.data = {} # to be used for LQR\n",
    "        \n",
    "        self.duration = self.s.duration_s # TimeDuration Object in seconds\n",
    "        self.num_frames = self.s.get_number_of_iterations() - 1\n",
    "        self.scenario_type = self.s.scenario_type\n",
    "\n",
    "        self.start_iter = start_iter\n",
    "        self.horizon = horizon\n",
    "        self.horizon_duration = self.duration.time_s * (float(self.horizon)/self.num_frames)\n",
    "        \n",
    "        self.n = closest\n",
    "        self.closest_neighbors_id = []\n",
    "\n",
    "        self.new_data = {}\n",
    "        \n",
    "        # bfs vars\n",
    "        self.route_roadblocks = []\n",
    "        self.candidate_lane_edge_ids = []\n",
    "        #self.init = self.s.initial_ego_state.center\n",
    "        #self.fin = self.s.get_expert_goal_state()\n",
    "        self.init = self.s.get_ego_state_at_iteration(self.start_iter).center\n",
    "        self.fin = self.s.get_ego_state_at_iteration(self.start_iter + self.horizon).center\n",
    "        \n",
    "    def populate_data(self):\n",
    "        self.data['current_pos_gb'] = self.get_current_ego_pos_gb()\n",
    "        self.data['current_pos'] = self.get_current_ego_pos()\n",
    "        self.data['future_pos'] = self.get_future_ego_pos()\n",
    "        #self.data['current_neighbor_pos'] = self.get_current_neighbor_pos()\n",
    "        self.data['future_neighbor_pos'] = self.get_future_neighbor_pos_padded()\n",
    "        self.data['current_neighbor_pos'] = self.data['future_neighbor_pos'][:, 0, :]\n",
    "        self.data['current_lane'] = self.get_current_lane()\n",
    "        \n",
    "        #self.relative_to_current_pos_gb()\n",
    "        self.add_batch_size_dimension()\n",
    "        self.single_neighbor_centered()\n",
    "    \n",
    "    # def relative_to_current_pos_gb(self):\n",
    "#         self.data['future_pos'] = self.data['future_pos'] - self.data['current_pos_gb']\n",
    "#         self.data['current_neighbor_pos'] = self.data['current_neighbor_pos'] - self.data['current_pos_gb']\n",
    "#         self.data['current_lane'] = self.data['current_lane'] - self.data['current_pos_gb']\n",
    "\n",
    "    def single_neighbor_centered(self):\n",
    "        # this prepares the data to only have one neighbor and centers it to the beginning of the ego position\n",
    "        self.new_data['current_pos_gb'] = s0.data['current_pos_gb']\n",
    "        self.new_data['current_pos'] = s0.data['current_pos']\n",
    "        self.new_data['future_pos'] = (s0.data['future_pos'] - s0.data['current_pos_gb'])\n",
    "        self.new_data['current_lane'] = (s0.data['current_lane'] - s0.data['current_pos_gb'])\n",
    "        self.new_data['future_neighbor_pos'] = s0.data['future_neighbor_pos'][:, [0], :, :] - s0.data['current_pos_gb']\n",
    "        self.new_data['current_neighbor_pos'] = s0.data['current_neighbor_pos'][:, [0], :] - s0.data['current_pos_gb']\n",
    "            \n",
    "    def add_batch_size_dimension(self):\n",
    "        \n",
    "        for key in self.data:\n",
    "            self.data[key] = torch.unsqueeze(self.data[key], 0)\n",
    "    \n",
    "    def get_current_ego_pos_gb(self):\n",
    "        return torch.Tensor(self.get_xy_from_egostate(self.s.get_ego_state_at_iteration(self.start_iter)))\n",
    "    \n",
    "    def get_current_ego_pos(self):\n",
    "        return torch.Tensor((0, 0))\n",
    "    \n",
    "    def get_future_ego_pos(self):\n",
    "        future_ego_pos = []\n",
    "        for ego in self.s.get_ego_future_trajectory(self.start_iter, self.horizon_duration, num_samples=self.horizon):\n",
    "            future_ego_pos.append(self.get_xy_from_egostate(ego))\n",
    "        return torch.Tensor(future_ego_pos)\n",
    "    \n",
    "    def get_future_neighbor_pos_padded(self):\n",
    "        veh = {}\n",
    "        # for each frame\n",
    "        for det_track in self.s.get_future_tracked_objects(self.start_iter, time_horizon=self.horizon_duration, num_samples=self.horizon):\n",
    "            # for each tracked vehicle\n",
    "            for obj in det_track.tracked_objects.get_tracked_objects_of_type(TrackedObjectType.VEHICLE):\n",
    "                veh[obj.track_token] = [(0.0, 0.0)] * self.horizon\n",
    "\n",
    "        # populate known vehicle positions\n",
    "        frame_id = 0\n",
    "        for det_track in self.s.get_future_tracked_objects(self.start_iter, time_horizon=self.horizon_duration, num_samples=self.horizon):\n",
    "            # for each tracked vehicle\n",
    "            for obj in det_track.tracked_objects.get_tracked_objects_of_type(TrackedObjectType.VEHICLE):\n",
    "                veh[obj.track_token][frame_id] = self.get_xy_from_agent(obj)\n",
    "            frame_id += 1\n",
    "        \n",
    "        return torch.Tensor(list(veh.values()))#[:, self.start_iter:self.start_iter+self.horizon, :]\n",
    "        \n",
    "\n",
    "    def get_current_neighbor_pos(self):\n",
    "        \n",
    "        #neighbors = self.s.initial_tracked_objects.tracked_objects.get_tracked_objects_of_type(TrackedObjectType.VEHICLE)\n",
    "        neighbors = self.s.get_tracked_objects_at_iteration(self.start_iter).tracked_objects.get_tracked_objects_of_type(TrackedObjectType.VEHICLE)\n",
    "        neighbors = sorted(neighbors, key=lambda ag:self.dist(self.data['current_pos_gb'], \n",
    "                                                               self.get_xy_from_agent(ag)))\n",
    "        assert(self.n <= len(neighbors))\n",
    "        if self.n < 0:\n",
    "            near_neighbors = neighbors\n",
    "        else:\n",
    "            near_neighbors = neighbors[:self.n]\n",
    "        self.closest_neighbors_id = [x.track_token for x in near_neighbors]\n",
    "        return torch.Tensor([self.get_xy_from_agent(ag) for ag in near_neighbors])\n",
    "    \n",
    "    def get_xy_from_agent(self, agent):\n",
    "        return (agent.center.x, agent.center.y)\n",
    "    \n",
    "    def get_xy_from_egostate(self, ego):\n",
    "        return ego.waypoint._oriented_box.center.x, ego.waypoint._oriented_box.center.y\n",
    "    \n",
    "    def dist(self, a, b):\n",
    "        return sqrt((a[0] - b[0]) ** 2 + (a[1] - b[1]) ** 2)\n",
    "    \n",
    "    def get_current_lane(self):\n",
    "        # get current lane info\n",
    "        bfs_output = self.get_bfs_path()\n",
    "        \n",
    "        full_bfs = []\n",
    "        for lane in bfs_output:\n",
    "            full_bfs += lane.baseline_path.discrete_path\n",
    "        \n",
    "        ref_path = self.trim_ref_path(full_bfs)\n",
    "        \n",
    "        return torch.Tensor(self.interpolate_to_dim(ref_path))\n",
    "    \n",
    "    def interpolate_to_dim(self, ref_path):\n",
    "        line = LineString(ref_path)\n",
    "        num_pts = self.horizon\n",
    "        #num_pts = s0.data['future_pos'].shape[0]\n",
    "        #num_pts = self.s.get_number_of_iterations() - 1\n",
    "        #num_pts = self.num_frames\n",
    "        distances = np.linspace(0, line.length, num_pts)\n",
    "        points = [line.interpolate(distance) for distance in distances]\n",
    "        return [(pt.x, pt.y) for pt in points]\n",
    "        \n",
    "        \n",
    "    def trim_ref_path(self, full_bfs):\n",
    "        \n",
    "        init_dist = float('inf')\n",
    "        fin_dist = float('inf')\n",
    "\n",
    "        init_id = 0\n",
    "        fin_id = 0\n",
    "        \n",
    "        for idx in range(len(full_bfs)):\n",
    "            if init_dist > full_bfs[idx].distance_to(self.init):\n",
    "                init_dist = full_bfs[idx].distance_to(self.init)\n",
    "                init_id = idx\n",
    "            if fin_dist > full_bfs[idx].distance_to(self.fin):\n",
    "                fin_dist = full_bfs[idx].distance_to(self.fin)\n",
    "                fin_id = idx\n",
    "        \n",
    "        ref_path = full_bfs[init_id:fin_id+1]\n",
    "        return [(pt.x, pt.y) for pt in ref_path] #, [pt.y for pt in ref_path]\n",
    "\n",
    "    \n",
    "    def get_bfs_path(self):\n",
    "        # get route plan from map\n",
    "        route_roadblocks_ids = self.s.get_route_roadblock_ids()\n",
    "\n",
    "        self.route_roadblocks = []\n",
    "        for id_ in route_roadblocks_ids:\n",
    "            block = self.s.map_api.get_map_object(id_, SemanticMapLayer.ROADBLOCK)\n",
    "            block = block or self.s.map_api.get_map_object(id_, SemanticMapLayer.ROADBLOCK_CONNECTOR)\n",
    "            self.route_roadblocks.append(block)\n",
    "\n",
    "        # candidate lane IDs\n",
    "        self.candidate_lane_edge_ids = [edge.id for block in self.route_roadblocks \n",
    "                                   if block for edge in block.interior_edges]\n",
    "        \n",
    "        current_lane_path, found = self.bfs(self.s.initial_ego_state)\n",
    "        assert(found == True)\n",
    "        return current_lane_path\n",
    "        \n",
    "    def get_starting_edge(self, ego_state: EgoState) -> LaneGraphEdgeMapObject:\n",
    "        starting_edge = None\n",
    "        closest_dist = math.inf\n",
    "        found_on_roadblock = False\n",
    "        for edge in self.route_roadblocks[0].interior_edges + self.route_roadblocks[1].interior_edges:\n",
    "            if edge.contains_point(ego_state.center):\n",
    "                starting_edge = edge\n",
    "                found_on_roadblock = True\n",
    "                break\n",
    "            # case ego does not start on a road block\n",
    "            distance = edge.polygon.distance(ego_state.car_footprint.geometry)\n",
    "            if distance < closest_dist:\n",
    "                starting_edge = edge\n",
    "                closest_dist = distance\n",
    "\n",
    "        if not found_on_roadblock:\n",
    "            print('Picking closest approx for starting roadblock')\n",
    "        return starting_edge\n",
    "    \n",
    "    def bfs(self, ego_state: EgoState) -> Tuple[List[LaneGraphEdgeMapObject], bool]:\n",
    "        starting_edge = self.get_starting_edge(ego_state)\n",
    "        graph_search = BreadthFirstSearch(starting_edge, self.candidate_lane_edge_ids)\n",
    "        offset = 1 if starting_edge.get_roadblock_id() == self.route_roadblocks[1].id else 0\n",
    "        route_plan, path_found = graph_search.search(self.route_roadblocks[-1], len(self.route_roadblocks[offset:]))\n",
    "        if not path_found:\n",
    "            logger.warning('Path not found')\n",
    "        return route_plan, path_found\n",
    "        "
   ]
  },
  {
   "cell_type": "code",
   "execution_count": 22,
   "id": "ff613472",
   "metadata": {},
   "outputs": [
    {
     "name": "stdout",
     "output_type": "stream",
     "text": [
      "Picking closest approx for starting roadblock\n"
     ]
    }
   ],
   "source": [
    "s0 = LQRData(scenarios[6], closest=-1, start_iter=80, horizon=20)\n",
    "s0.populate_data()"
   ]
  },
  {
   "cell_type": "markdown",
   "id": "aa43e028",
   "metadata": {
    "jp-MarkdownHeadingCollapsed": true
   },
   "source": [
    "## Run LQR - All Neighbors/Agents, Horizon 20"
   ]
  },
  {
   "cell_type": "code",
   "execution_count": 23,
   "id": "747fa473",
   "metadata": {},
   "outputs": [],
   "source": [
    "from lqr import LQRPlanner"
   ]
  },
  {
   "cell_type": "code",
   "execution_count": 24,
   "id": "c36ba54c",
   "metadata": {},
   "outputs": [],
   "source": [
    "model_input = s0.data"
   ]
  },
  {
   "cell_type": "code",
   "execution_count": 25,
   "id": "ec99c557",
   "metadata": {},
   "outputs": [
    {
     "name": "stdout",
     "output_type": "stream",
     "text": [
      "current_pos_gb: torch.Size([1, 2])\n",
      "current_pos: torch.Size([1, 2])\n",
      "future_pos: torch.Size([1, 20, 2])\n",
      "future_neighbor_pos: torch.Size([1, 38, 20, 2])\n",
      "current_neighbor_pos: torch.Size([1, 38, 2])\n",
      "current_lane: torch.Size([1, 20, 2])\n"
     ]
    }
   ],
   "source": [
    "for key in s0.data:\n",
    "    print(key + ': ' + str(s0.data[key].shape))"
   ]
  },
  {
   "cell_type": "code",
   "execution_count": 26,
   "id": "c19f3c81",
   "metadata": {},
   "outputs": [
    {
     "name": "stdout",
     "output_type": "stream",
     "text": [
      "Initial mean(cost): 0.0000e+00\n",
      "| 0 | -2.4668e+15 | 3.08e+01 | 1.00e+00 | 22 |\n",
      "| 1 | -2.4668e+15 | 0.00e+00 | 1.00e+00 | 20 |\n"
     ]
    }
   ],
   "source": [
    "planner = LQRPlanner()\n",
    "output = planner.forward(model_input)"
   ]
  },
  {
   "cell_type": "code",
   "execution_count": 27,
   "id": "e48a73cd",
   "metadata": {},
   "outputs": [
    {
     "data": {
      "text/plain": [
       "torch.Size([1, 20, 2])"
      ]
     },
     "execution_count": 27,
     "metadata": {},
     "output_type": "execute_result"
    }
   ],
   "source": [
    "output['traj'].shape"
   ]
  },
  {
   "cell_type": "code",
   "execution_count": 28,
   "id": "e6c1c0f9",
   "metadata": {},
   "outputs": [],
   "source": [
    "s0.data['current_pos_gb']\n",
    "true = s0.data['future_pos'] - s0.data['current_pos_gb']\n",
    "ref = s0.data['current_lane'] - s0.data['current_pos_gb']\n",
    "pred = output['traj'].detach().numpy()"
   ]
  },
  {
   "cell_type": "code",
   "execution_count": 29,
   "id": "0e1b0f55",
   "metadata": {},
   "outputs": [
    {
     "data": {
      "text/plain": [
       "(1, 20, 2)"
      ]
     },
     "execution_count": 29,
     "metadata": {},
     "output_type": "execute_result"
    }
   ],
   "source": [
    "pred.shape"
   ]
  },
  {
   "cell_type": "code",
   "execution_count": 30,
   "id": "1100879b",
   "metadata": {},
   "outputs": [
    {
     "data": {
      "text/plain": [
       "<matplotlib.legend.Legend at 0x7f872982e4f0>"
      ]
     },
     "execution_count": 30,
     "metadata": {},
     "output_type": "execute_result"
    },
    {
     "data": {
      "image/png": "[encoded data removed]",
      "text/plain": [
       "<Figure size 640x480 with 1 Axes>"
      ]
     },
     "metadata": {},
     "output_type": "display_data"
    }
   ],
   "source": [
    "plt.scatter(true[0, :, 0], true[0, :, 1], color='b', label='true path', s=3)\n",
    "plt.scatter(ref[0, :, 0], ref[0, :, 1], color='g', label='reference path', s=3)\n",
    "plt.scatter(pred[0, :, 0], pred[0, :, 1], color='r', label='LQR trajectory', s=3)\n",
    "plt.legend()"
   ]
  },
  {
   "cell_type": "markdown",
   "id": "39478f99-cfb0-41e9-ab04-83bb8b9bc41e",
   "metadata": {
    "jp-MarkdownHeadingCollapsed": true
   },
   "source": [
    "## Run LQR - Single, Horizon 20"
   ]
  },
  {
   "cell_type": "code",
   "execution_count": 31,
   "id": "a7702fdc",
   "metadata": {},
   "outputs": [
    {
     "name": "stdout",
     "output_type": "stream",
     "text": [
      "current_pos_gb: torch.Size([1, 2])\n",
      "current_pos: torch.Size([1, 2])\n",
      "future_pos: torch.Size([1, 20, 2])\n",
      "current_lane: torch.Size([1, 20, 2])\n",
      "future_neighbor_pos: torch.Size([1, 1, 20, 2])\n",
      "current_neighbor_pos: torch.Size([1, 1, 2])\n"
     ]
    }
   ],
   "source": [
    "from lqr import LQRPlanner\n",
    "for key in s0.new_data:\n",
    "    print(key + ': ' + str(s0.new_data[key].shape))"
   ]
  },
  {
   "cell_type": "code",
   "execution_count": 32,
   "id": "26f8688b-dab2-45f9-a65c-06042a03312e",
   "metadata": {},
   "outputs": [
    {
     "name": "stdout",
     "output_type": "stream",
     "text": [
      "Initial mean(cost): 0.0000e+00\n",
      "| 0 | -5.6947e+02 | 1.42e+01 | 1.00e+00 | 37 |\n",
      "| 1 | -6.5985e+02 | 1.01e+01 | 1.00e+00 | 39 |\n",
      "| 2 | -6.5985e+02 | 0.00e+00 | 1.00e+00 | 20 |\n"
     ]
    },
    {
     "data": {
      "text/plain": [
       "torch.Size([1, 20, 2])"
      ]
     },
     "execution_count": 32,
     "metadata": {},
     "output_type": "execute_result"
    }
   ],
   "source": [
    "planner = LQRPlanner()\n",
    "output = planner.forward(s0.new_data)\n",
    "output['traj'].shape"
   ]
  },
  {
   "cell_type": "code",
   "execution_count": 36,
   "id": "d6ee48df-7996-409c-80e4-54b6e8d851f9",
   "metadata": {},
   "outputs": [
    {
     "data": {
      "text/plain": [
       "Text(0.5, 1.0, 'Single Neighbor, Frames 80-100')"
      ]
     },
     "execution_count": 36,
     "metadata": {},
     "output_type": "execute_result"
    },
    {
     "data": {
      "image/png": "[encoded data removed]",
      "text/plain": [
       "<Figure size 640x480 with 1 Axes>"
      ]
     },
     "metadata": {},
     "output_type": "display_data"
    }
   ],
   "source": [
    "true = s0.new_data['future_pos']\n",
    "ref = s0.new_data['current_lane']\n",
    "pred = output['traj'].detach().numpy()\n",
    "neigh = s0.new_data['future_neighbor_pos'][0, 0]\n",
    "\n",
    "plt.scatter(true[0, :, 0], true[0, :, 1], color='b', label='true path', s=3)\n",
    "plt.scatter(ref[0, :, 0], ref[0, :, 1], color='g', label='reference path', s=3)\n",
    "plt.scatter(pred[0, :, 0], pred[0, :, 1], color='r', label='LQR trajectory', s=3)\n",
    "plt.scatter(neigh[:, 0], neigh[:, 1], color='pink', marker='^', label='neighbor', s=3)\n",
    "plt.legend()\n",
    "plt.title('Single Neighbor, Frames 80-100')"
   ]
  },
  {
   "cell_type": "code",
   "execution_count": null,
   "id": "1e579360-ab84-40c5-825d-432f3ff9cde4",
   "metadata": {},
   "outputs": [],
   "source": []
  }
 ],
 "metadata": {
  "kernelspec": {
   "display_name": "Python 3 (ipykernel)",
   "language": "python",
   "name": "python3"
  },
  "language_info": {
   "codemirror_mode": {
    "name": "ipython",
    "version": 3
   },
   "file_extension": ".py",
   "mimetype": "text/x-python",
   "name": "python",
   "nbconvert_exporter": "python",
   "pygments_lexer": "ipython3",
   "version": "3.9.16"
  }
 },
 "nbformat": 4,
 "nbformat_minor": 5
}

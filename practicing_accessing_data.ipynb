{
 "cells": [
  {
   "cell_type": "code",
   "execution_count": 1,
   "id": "ac29bd75",
   "metadata": {},
   "outputs": [],
   "source": [
    "from tutorials.utils.tutorial_utils import setup_notebook\n",
    "setup_notebook()\n",
    "import os\n",
    "NUPLAN_DATA_ROOT = os.getenv('NUPLAN_DATA_ROOT', '../../nuplan/dataset')\n",
    "NUPLAN_MAPS_ROOT = os.getenv('NUPLAN_MAPS_ROOT', '../../nuplan/dataset/maps')\n",
    "NUPLAN_DB_FILES = os.getenv('NUPLAN_DB_FILES', '../../nuplan/dataset/nuplan-v1.1/splits/mini')\n",
    "NUPLAN_MAP_VERSION = os.getenv('NUPLAN_MAP_VERSION', 'nuplan-maps-v1.0')"
   ]
  },
  {
   "cell_type": "markdown",
   "id": "5d6a1d09",
   "metadata": {},
   "source": [
    "## Direct SQLite queries"
   ]
  },
  {
   "cell_type": "code",
   "execution_count": 2,
   "id": "d91d8525",
   "metadata": {},
   "outputs": [
    {
     "name": "stdout",
     "output_type": "stream",
     "text": [
      "The number of lidar_pcs in this log files is 10200.\n"
     ]
    }
   ],
   "source": [
    "from nuplan.database.nuplan_db.query_session import execute_one, execute_many\n",
    "\n",
    "query = \"\"\"\n",
    "SELECT COUNT(*) AS cnt\n",
    "FROM lidar_pc;\n",
    "\"\"\"\n",
    "\n",
    "log_db_name = \"2021.05.12.22.00.38_veh-35_01008_01518\"\n",
    "\n",
    "result = execute_one(query, (), os.path.join(NUPLAN_DB_FILES, f\"{log_db_name}.db\"))\n",
    "print(f\"The number of lidar_pcs in this log files is {result['cnt']}.\")"
   ]
  },
  {
   "cell_type": "code",
   "execution_count": 3,
   "id": "25d121a7",
   "metadata": {},
   "outputs": [
    {
     "name": "stdout",
     "output_type": "stream",
     "text": [
      "Lidar_pc token: e1e4ee25d1ff58f2.\n",
      "Ego pose: <664654.2126382107, 3999264.214758526, 606.4578471006269>.\n"
     ]
    }
   ],
   "source": [
    "example_token = \"e1e4ee25d1ff58f2\"\n",
    "query = \"\"\"\n",
    "SELECT ep.x AS ep_x,\n",
    "       ep.y AS ep_y,\n",
    "       ep.z AS ep_z,\n",
    "       lp.token AS token\n",
    "FROM ego_pose AS ep\n",
    "INNER JOIN lidar_pc AS lp\n",
    "  ON lp.ego_pose_token = ep.token\n",
    "WHERE lp.token = ?\n",
    "\"\"\"\n",
    "\n",
    "result = execute_one(\n",
    "    query, \n",
    "    (bytearray.fromhex(example_token),), \n",
    "    os.path.join(NUPLAN_DB_FILES, f\"{log_db_name}.db\")\n",
    ")\n",
    "\n",
    "print(f\"Lidar_pc token: {result['token'].hex()}.\")\n",
    "print(f\"Ego pose: <{result['ep_x']}, {result['ep_y']}, {result['ep_z']}>.\")"
   ]
  },
  {
   "cell_type": "markdown",
   "id": "ca0063df",
   "metadata": {},
   "source": [
    "For one scene, get the following information:\n",
    "- current_ego_pose_gb\n",
    "- current_ego_pose\n",
    "- future_ego_pose\n",
    "- current_neighbour_pos\n",
    "- future_neighbour_pos\n",
    "- current_lane"
   ]
  },
  {
   "cell_type": "code",
   "execution_count": 4,
   "id": "1ffc589d",
   "metadata": {},
   "outputs": [],
   "source": [
    "from nuplan.planning.script.builders.scenario_building_builder import build_scenario_builder\n",
    "from nuplan.planning.script.builders.scenario_filter_builder import build_scenario_filter\n",
    "from nuplan.planning.script.builders.worker_pool_builder import build_worker\n",
    "\n",
    "### set up config file - edit in the config access to change ###\n",
    "import hydra\n",
    "CONFIG_PATH = \"../nuplan/planning/script/config/common/myconfigs\"\n",
    "CONFIG_NAME = \"scenario_access\"\n",
    "hydra.core.global_hydra.GlobalHydra.instance().clear()\n",
    "hydra.initialize(config_path=CONFIG_PATH)\n",
    "cfg = hydra.compose(config_name=CONFIG_NAME, overrides=[])\n",
    "###\n",
    "\n",
    "### create all scenario objects as specified in config file ###\n",
    "scenario_builder = build_scenario_builder(cfg)\n",
    "scenario_filter = build_scenario_filter(cfg.scenario_filter)\n",
    "worker = build_worker(cfg)\n",
    "scenarios = scenario_builder.get_scenarios(scenario_filter, worker) # List[AbstractScenario]"
   ]
  },
  {
   "cell_type": "code",
   "execution_count": 5,
   "id": "c0ee0f27",
   "metadata": {},
   "outputs": [],
   "source": [
    "from math import sqrt\n",
    "from nuplan.common.actor_state.tracked_objects_types import TrackedObjectType\n",
    "from nuplan.common.actor_state.state_representation import TimeDuration\n",
    "\n",
    "class LQRData():\n",
    "    \n",
    "    def __init__(self, scenario, closest=5):\n",
    "        self.s = scenario\n",
    "        \n",
    "        self.data = {} # to be used for LQR\n",
    "        \n",
    "        self.duration = self.s.duration_s # TimeDuration Object in seconds\n",
    "        self.num_frames = self.s.get_number_of_iterations()\n",
    "        self.scenario_type = self.s.scenario_type\n",
    "        \n",
    "        self.n = closest\n",
    "        self.closest_neighbors_id = []\n",
    "    \n",
    "    def populate_data(self):\n",
    "        self.data['current_ego_pos_gb'] = self.get_current_ego_pos_gb()\n",
    "        self.data['current_ego_pos'] = self.get_current_ego_pos()\n",
    "        self.data['future_ego_pos'] = self.get_future_ego_pos()\n",
    "        self.data['current_neighbor_pos'] = self.get_current_neighbor_pos()\n",
    "        self.data['future_neighbor_pos'] = self.get_future_neighbor_pos_id_consistent()\n",
    "        self.data['current_lane'] = self.get_current_lane()\n",
    "    \n",
    "    def get_current_ego_pos_gb(self):\n",
    "        return self.get_xy_from_egostate(self.s.initial_ego_state)\n",
    "    \n",
    "    def get_current_ego_pos(self):\n",
    "        return (0, 0)\n",
    "    \n",
    "    def get_future_ego_pos(self):\n",
    "        future_ego_pos = []\n",
    "        for ego in self.s.get_ego_future_trajectory(0, self.duration.time_s):\n",
    "            future_ego_pos.append(self.get_xy_from_egostate(ego))\n",
    "        return future_ego_pos\n",
    "        \n",
    "    def get_current_neighbor_pos(self):\n",
    "        \n",
    "        neighbors = self.s.initial_tracked_objects.tracked_objects.get_tracked_objects_of_type(TrackedObjectType.VEHICLE)\n",
    "        \n",
    "        neighbors = sorted(neighbors, key=lambda ag:self.dist(self.data['current_ego_pos_gb'], \n",
    "                                                               self.get_xy_from_agent(ag)))\n",
    "        assert(self.n <= len(neighbors))\n",
    "        near_neighbors = neighbors[:self.n]\n",
    "        self.closest_neighbors_id = [x.track_token for x in near_neighbors]\n",
    "        return [self.get_xy_from_agent(ag) for ag in near_neighbors]\n",
    "    \n",
    "#     def get_future_neighbor_pos_nearest_n(self):\n",
    "        \n",
    "#         frames = []\n",
    "#         for detection_track in self.s.get_future_tracked_objects(0, self.duration.time_s):\n",
    "#             tracked_objs = detection_track.tracked_objects\n",
    "#             tracked_objs = sorted(tracked_objs, key=lambda ag:self.dist(self.data['current_ego_pos_gb'],\n",
    "#                                                                   self.get_xy_from_agent(ag)))\n",
    "#             near_objs = tracked_objs[:self.n]\n",
    "            \n",
    "#         return frames\n",
    "    \n",
    "    def get_future_neighbor_pos_id_consistent(self):\n",
    "        \n",
    "        frames = []\n",
    "        \n",
    "        for detection_track in self.s.get_future_tracked_objects(0, self.duration.time_s):\n",
    "            tracked_objs = detection_track.tracked_objects\n",
    "            \n",
    "            interest_objs = []\n",
    "            for obj in tracked_objs:\n",
    "                if obj.track_token in self.closest_neighbors_id:\n",
    "                    interest_objs.append(self.get_xy_from_agent(obj))\n",
    "            \n",
    "            assert(len(interest_objs) == self.n)\n",
    "            frames.append(interest_objs)\n",
    "            \n",
    "        return frames\n",
    "    \n",
    "    def get_current_lane(self):\n",
    "        return ''\n",
    "    \n",
    "    def get_xy_from_agent(self, agent):\n",
    "        return (agent.center.x, agent.center.y)\n",
    "    \n",
    "    def get_xy_from_egostate(self, ego):\n",
    "        return ego.waypoint._oriented_box.center.x, ego.waypoint._oriented_box.center.y\n",
    "    \n",
    "    def dist(self, a, b):\n",
    "        return sqrt((a[0] - b[0]) ** 2 + (a[1] - b[1]) ** 2)"
   ]
  },
  {
   "cell_type": "code",
   "execution_count": 6,
   "id": "e6662050",
   "metadata": {},
   "outputs": [],
   "source": [
    "s0 = LQRData(scenarios[0])\n",
    "s0.populate_data()"
   ]
  },
  {
   "cell_type": "code",
   "execution_count": null,
   "id": "31fd6381",
   "metadata": {},
   "outputs": [],
   "source": []
  }
 ],
 "metadata": {
  "kernelspec": {
   "display_name": "Python 3 (ipykernel)",
   "language": "python",
   "name": "python3"
  },
  "language_info": {
   "codemirror_mode": {
    "name": "ipython",
    "version": 3
   },
   "file_extension": ".py",
   "mimetype": "text/x-python",
   "name": "python",
   "nbconvert_exporter": "python",
   "pygments_lexer": "ipython3",
   "version": "3.9.16"
  }
 },
 "nbformat": 4,
 "nbformat_minor": 5
}

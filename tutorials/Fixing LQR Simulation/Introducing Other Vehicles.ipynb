{
 "cells": [
  {
   "cell_type": "markdown",
   "id": "807d72fe-6f9a-4228-b76f-b64d3cbeba08",
   "metadata": {},
   "source": [
    "# Get Scenarios"
   ]
  },
  {
   "cell_type": "code",
   "execution_count": 1,
   "id": "5c426877-7c6b-4bc5-80ee-abfb61827a60",
   "metadata": {},
   "outputs": [],
   "source": [
    "import os\n",
    "NUPLAN_DATA_ROOT = os.getenv('NUPLAN_DATA_ROOT', '../../../nuplan/dataset')\n",
    "NUPLAN_MAPS_ROOT = os.getenv('NUPLAN_MAPS_ROOT', '../../../nuplan/dataset/maps')\n",
    "NUPLAN_DB_FILES = os.getenv('NUPLAN_DB_FILES', '../../../nuplan/dataset/nuplan-v1.1/splits/mini')\n",
    "NUPLAN_MAP_VERSION = os.getenv('NUPLAN_MAP_VERSION', 'nuplan-maps-v1.0')\n",
    "\n",
    "from nuplan.planning.script.builders.scenario_building_builder import build_scenario_builder\n",
    "from nuplan.planning.script.builders.scenario_filter_builder import build_scenario_filter\n",
    "from nuplan.planning.script.builders.worker_pool_builder import build_worker\n",
    "\n",
    "### set up config file - edit in the config access to change ###\n",
    "import hydra\n",
    "CONFIG_PATH = \"../../nuplan/planning/script/config/common/myconfigs\"\n",
    "CONFIG_NAME = \"scenario_access\"\n",
    "hydra.core.global_hydra.GlobalHydra.instance().clear()\n",
    "hydra.initialize(config_path=CONFIG_PATH)\n",
    "cfg = hydra.compose(config_name=CONFIG_NAME, overrides=[])\n",
    "###\n",
    "\n",
    "### create all scenario objects as specified in config file ###\n",
    "scenario_builder = build_scenario_builder(cfg)\n",
    "scenario_filter = build_scenario_filter(cfg.scenario_filter)\n",
    "worker = build_worker(cfg)\n",
    "scenarios = scenario_builder.get_scenarios(scenario_filter, worker) # List[AbstractScenario]"
   ]
  },
  {
   "cell_type": "markdown",
   "id": "502241de-5a0d-4fdd-b0c6-5ee1c5be9adf",
   "metadata": {},
   "source": [
    "# Try LQR"
   ]
  },
  {
   "cell_type": "code",
   "execution_count": 2,
   "id": "c150018c-0660-47fb-ad9a-360546c855ff",
   "metadata": {},
   "outputs": [
    {
     "name": "stdout",
     "output_type": "stream",
     "text": [
      "BFS: Path not found\n"
     ]
    },
    {
     "name": "stderr",
     "output_type": "stream",
     "text": [
      "/home/nishka/miniconda3/envs/nuplan/lib/python3.9/site-packages/shapely/linear.py:90: RuntimeWarning: invalid value encountered in line_locate_point\n",
      "  return lib.line_locate_point(line, other)\n"
     ]
    }
   ],
   "source": [
    "scidx = 17\n",
    "scenario = scenarios[scidx]\n",
    "\n",
    "init_x, init_y, init_h = (scenario.initial_ego_state.center.x,\n",
    "                          scenario.initial_ego_state.center.y,\n",
    "                          scenario.initial_ego_state.center.heading)\n",
    "\n",
    "from lqrdata import LQRData\n",
    "speed = 5\n",
    "dataclass = LQRData(scenario, (init_x, init_y, init_h), speed=speed, neighbors=5, start_iter=0, horizon=20)\n",
    "dataclass.populate_data()"
   ]
  },
  {
   "cell_type": "code",
   "execution_count": 3,
   "id": "78ffca6e-2298-4fd0-a0dc-e9ad55ce2ee4",
   "metadata": {},
   "outputs": [
    {
     "name": "stdout",
     "output_type": "stream",
     "text": [
      "current_pos_gb: torch.Size([1, 2])\n",
      "current_pos: torch.Size([1, 2])\n",
      "future_pos: torch.Size([1, 20, 2])\n",
      "current_lane: torch.Size([1, 20, 2])\n",
      "future_neighbor_pos: torch.Size([1, 5, 20, 2])\n",
      "current_neighbor_pos: torch.Size([1, 5, 2])\n",
      "current_lane_global: torch.Size([1, 20, 2])\n"
     ]
    }
   ],
   "source": [
    "dataclass.show_dims()"
   ]
  }
 ],
 "metadata": {
  "kernelspec": {
   "display_name": "Python 3 (ipykernel)",
   "language": "python",
   "name": "python3"
  },
  "language_info": {
   "codemirror_mode": {
    "name": "ipython",
    "version": 3
   },
   "file_extension": ".py",
   "mimetype": "text/x-python",
   "name": "python",
   "nbconvert_exporter": "python",
   "pygments_lexer": "ipython3",
   "version": "3.9.16"
  }
 },
 "nbformat": 4,
 "nbformat_minor": 5
}

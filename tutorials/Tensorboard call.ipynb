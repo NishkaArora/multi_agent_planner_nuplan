{
 "cells": [
  {
   "cell_type": "code",
   "execution_count": 1,
   "id": "a9f03eb0",
   "metadata": {},
   "outputs": [],
   "source": [
    "from pathlib import Path\n",
    "\n",
    "# Create a temporary directory to store the cache and experiment artifacts\n",
    "# SAVE_DIR = Path(tempfile.gettempdir()) / 'tutorial_nuplan_framework'  # optionally replace with persistent dir\n",
    "SAVE_DIR = Path('/home/nishka')\n",
    "EXPERIMENT = 'training_logs/exp/training'\n",
    "JOB_NAME = 'gpu0workerstrain_simple_vector_map_model'\n",
    "LOG_DIR = SAVE_DIR / EXPERIMENT / JOB_NAME"
   ]
  },
  {
   "cell_type": "code",
   "execution_count": 2,
   "id": "e8a79dcf",
   "metadata": {},
   "outputs": [
    {
     "data": {
      "text/html": [
       "\n",
       "      <iframe id=\"tensorboard-frame-10381bb675ed1139\" width=\"100%\" height=\"800\" frameborder=\"0\">\n",
       "      </iframe>\n",
       "      <script>\n",
       "        (function() {\n",
       "          const frame = document.getElementById(\"tensorboard-frame-10381bb675ed1139\");\n",
       "          const url = new URL(\"/\", window.location);\n",
       "          const port = 6006;\n",
       "          if (port) {\n",
       "            url.port = port;\n",
       "          }\n",
       "          frame.src = url;\n",
       "        })();\n",
       "      </script>\n",
       "    "
      ],
      "text/plain": [
       "<IPython.core.display.HTML object>"
      ]
     },
     "metadata": {},
     "output_type": "display_data"
    }
   ],
   "source": [
    "%load_ext tensorboard\n",
    "%tensorboard --logdir {str(LOG_DIR)}"
   ]
  },
  {
   "cell_type": "code",
   "execution_count": 3,
   "id": "08c480df",
   "metadata": {},
   "outputs": [],
   "source": [
    "# # Get the checkpoint of the trained model\n",
    "# last_experiment = sorted(os.listdir(LOG_DIR))[-1]\n",
    "# train_experiment_dir = sorted(LOG_DIR.iterdir())[-1]\n",
    "# checkpoint = sorted((train_experiment_dir / 'checkpoints').iterdir())[-1]\n",
    "\n",
    "# MODEL_PATH = str(checkpoint).replace(\"=\", \"\\=\")\n",
    "\n",
    "# # Name of the experiment\n",
    "# EXPERIMENT = 'simulation_raster_experiment'"
   ]
  }
 ],
 "metadata": {
  "kernelspec": {
   "display_name": "Python 3 (ipykernel)",
   "language": "python",
   "name": "python3"
  },
  "language_info": {
   "codemirror_mode": {
    "name": "ipython",
    "version": 3
   },
   "file_extension": ".py",
   "mimetype": "text/x-python",
   "name": "python",
   "nbconvert_exporter": "python",
   "pygments_lexer": "ipython3",
   "version": "3.9.16"
  }
 },
 "nbformat": 4,
 "nbformat_minor": 5
}
